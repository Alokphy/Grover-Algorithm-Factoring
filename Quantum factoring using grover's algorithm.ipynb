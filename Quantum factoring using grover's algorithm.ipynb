{
 "cells": [
  {
   "cell_type": "code",
   "execution_count": 1,
   "id": "0b8a3661",
   "metadata": {},
   "outputs": [
    {
     "name": "stderr",
     "output_type": "stream",
     "text": [
      "C:\\Users\\ga05y\\AppData\\Local\\Temp\\ipykernel_16992\\810781213.py:1: FutureWarning: The `qiskit` package is not installed, only `qiskit-terra` is installed. Starting in Qiskit 1.0.0 only the `qiskit` package will be published. Migrate any requirements files still using `qiskit-terra` to use `qiskit` instead. See https://qisk.it/1-0-packaging-migration for more detail.\n",
      "  import qiskit\n"
     ]
    }
   ],
   "source": [
    "import qiskit\n",
    "from qiskit import * \n",
    "from qiskit.visualization import plot_histogram\n"
   ]
  },
  {
   "cell_type": "code",
   "execution_count": 2,
   "id": "71f9f9b1",
   "metadata": {},
   "outputs": [
    {
     "data": {
      "text/html": [
       "<pre style=\"word-wrap: normal;white-space: pre;background: #fff0;line-height: 1.1;font-family: &quot;Courier New&quot;,Courier,monospace\">     ┌───┐     \n",
       "q_0: ┤ H ├─────\n",
       "     ├───┤     \n",
       "q_1: ┤ H ├─────\n",
       "     ├───┤     \n",
       "q_2: ┤ H ├─────\n",
       "     ├───┤     \n",
       "q_3: ┤ H ├─────\n",
       "     ├───┤     \n",
       "q_4: ┤ H ├─────\n",
       "     ├───┤     \n",
       "q_5: ┤ H ├─────\n",
       "     ├───┤     \n",
       "q_6: ┤ X ├─────\n",
       "     └───┘     \n",
       "q_7: ──────────\n",
       "     ┌───┐     \n",
       "q_8: ┤ X ├─────\n",
       "     ├───┤┌───┐\n",
       "q_9: ┤ X ├┤ H ├\n",
       "     └───┘└───┘\n",
       "c: 6/══════════\n",
       "               </pre>"
      ],
      "text/plain": [
       "     ┌───┐     \n",
       "q_0: ┤ H ├─────\n",
       "     ├───┤     \n",
       "q_1: ┤ H ├─────\n",
       "     ├───┤     \n",
       "q_2: ┤ H ├─────\n",
       "     ├───┤     \n",
       "q_3: ┤ H ├─────\n",
       "     ├───┤     \n",
       "q_4: ┤ H ├─────\n",
       "     ├───┤     \n",
       "q_5: ┤ H ├─────\n",
       "     ├───┤     \n",
       "q_6: ┤ X ├─────\n",
       "     └───┘     \n",
       "q_7: ──────────\n",
       "     ┌───┐     \n",
       "q_8: ┤ X ├─────\n",
       "     ├───┤┌───┐\n",
       "q_9: ┤ X ├┤ H ├\n",
       "     └───┘└───┘\n",
       "c: 6/══════════\n",
       "               "
      ]
     },
     "execution_count": 2,
     "metadata": {},
     "output_type": "execute_result"
    }
   ],
   "source": [
    "# for factorising 35\n",
    "qc = QuantumCircuit(10,6)\n",
    "for i in range(6):\n",
    "    qc.h(i)\n",
    "qc.x(6)\n",
    "qc.x(8)\n",
    "qc.x(9)\n",
    "qc.h(9)\n",
    "qc.draw()\n",
    "    \n",
    "\n",
    "    "
   ]
  },
  {
   "cell_type": "code",
   "execution_count": 3,
   "id": "07912a4c",
   "metadata": {},
   "outputs": [
    {
     "data": {
      "text/html": [
       "<pre style=\"word-wrap: normal;white-space: pre;background: #fff0;line-height: 1.1;font-family: &quot;Courier New&quot;,Courier,monospace\">     ┌───┐     ┌───┐\n",
       "q_0: ┤ X ├──■──┤ X ├\n",
       "     ├───┤  │  ├───┤\n",
       "q_1: ┤ X ├──■──┤ X ├\n",
       "     ├───┤  │  ├───┤\n",
       "q_2: ┤ X ├──■──┤ X ├\n",
       "     ├───┤  │  ├───┤\n",
       "q_3: ┤ X ├──■──┤ X ├\n",
       "     ├───┤  │  ├───┤\n",
       "q_4: ┤ X ├──■──┤ X ├\n",
       "     ├───┤  │  ├───┤\n",
       "q_5: ┤ X ├──■──┤ X ├\n",
       "     └───┘  │  └───┘\n",
       "q_6: ───────■───────\n",
       "     ┌───┐  │  ┌───┐\n",
       "q_7: ┤ X ├──■──┤ X ├\n",
       "     └───┘  │  └───┘\n",
       "q_8: ───────■───────\n",
       "          ┌─┴─┐     \n",
       "q_9: ─────┤ X ├─────\n",
       "          └───┘     </pre>"
      ],
      "text/plain": [
       "     ┌───┐     ┌───┐\n",
       "q_0: ┤ X ├──■──┤ X ├\n",
       "     ├───┤  │  ├───┤\n",
       "q_1: ┤ X ├──■──┤ X ├\n",
       "     ├───┤  │  ├───┤\n",
       "q_2: ┤ X ├──■──┤ X ├\n",
       "     ├───┤  │  ├───┤\n",
       "q_3: ┤ X ├──■──┤ X ├\n",
       "     ├───┤  │  ├───┤\n",
       "q_4: ┤ X ├──■──┤ X ├\n",
       "     ├───┤  │  ├───┤\n",
       "q_5: ┤ X ├──■──┤ X ├\n",
       "     └───┘  │  └───┘\n",
       "q_6: ───────■───────\n",
       "     ┌───┐  │  ┌───┐\n",
       "q_7: ┤ X ├──■──┤ X ├\n",
       "     └───┘  │  └───┘\n",
       "q_8: ───────■───────\n",
       "          ┌─┴─┐     \n",
       "q_9: ─────┤ X ├─────\n",
       "          └───┘     "
      ]
     },
     "execution_count": 3,
     "metadata": {},
     "output_type": "execute_result"
    }
   ],
   "source": [
    "# oracle for factorising 35\n",
    "cq = QuantumCircuit(10)\n",
    "for i in range(6):\n",
    "    cq.x(i)\n",
    "cq.x(7)\n",
    "cq.mcx([0,1,2,3,4,5,6,7,8],9)\n",
    "for i in range(6):\n",
    "    cq.x(i)\n",
    "cq.x(7)\n",
    "cq.draw()\n",
    "    \n",
    "\n",
    "    \n",
    "        \n",
    "    "
   ]
  },
  {
   "cell_type": "code",
   "execution_count": 4,
   "id": "ee25a058",
   "metadata": {},
   "outputs": [
    {
     "data": {
      "text/html": [
       "<pre style=\"word-wrap: normal;white-space: pre;background: #fff0;line-height: 1.1;font-family: &quot;Courier New&quot;,Courier,monospace\">     ┌───┐┌───┐     ┌───┐┌───┐\n",
       "q_0: ┤ H ├┤ X ├──■──┤ X ├┤ H ├\n",
       "     ├───┤├───┤  │  ├───┤├───┤\n",
       "q_1: ┤ H ├┤ X ├──■──┤ X ├┤ H ├\n",
       "     ├───┤├───┤  │  ├───┤├───┤\n",
       "q_2: ┤ H ├┤ X ├──■──┤ X ├┤ H ├\n",
       "     ├───┤├───┤  │  ├───┤├───┤\n",
       "q_3: ┤ H ├┤ X ├──■──┤ X ├┤ H ├\n",
       "     ├───┤├───┤  │  ├───┤├───┤\n",
       "q_4: ┤ H ├┤ X ├──■──┤ X ├┤ H ├\n",
       "     ├───┤├───┤  │  ├───┤├───┤\n",
       "q_5: ┤ H ├┤ X ├──■──┤ X ├┤ H ├\n",
       "     └───┘└───┘  │  └───┘└───┘\n",
       "q_6: ────────────┼────────────\n",
       "                 │            \n",
       "q_7: ────────────┼────────────\n",
       "                 │            \n",
       "q_8: ────────────┼────────────\n",
       "               ┌─┴─┐          \n",
       "q_9: ──────────┤ X ├──────────\n",
       "               └───┘          </pre>"
      ],
      "text/plain": [
       "     ┌───┐┌───┐     ┌───┐┌───┐\n",
       "q_0: ┤ H ├┤ X ├──■──┤ X ├┤ H ├\n",
       "     ├───┤├───┤  │  ├───┤├───┤\n",
       "q_1: ┤ H ├┤ X ├──■──┤ X ├┤ H ├\n",
       "     ├───┤├───┤  │  ├───┤├───┤\n",
       "q_2: ┤ H ├┤ X ├──■──┤ X ├┤ H ├\n",
       "     ├───┤├───┤  │  ├───┤├───┤\n",
       "q_3: ┤ H ├┤ X ├──■──┤ X ├┤ H ├\n",
       "     ├───┤├───┤  │  ├───┤├───┤\n",
       "q_4: ┤ H ├┤ X ├──■──┤ X ├┤ H ├\n",
       "     ├───┤├───┤  │  ├───┤├───┤\n",
       "q_5: ┤ H ├┤ X ├──■──┤ X ├┤ H ├\n",
       "     └───┘└───┘  │  └───┘└───┘\n",
       "q_6: ────────────┼────────────\n",
       "                 │            \n",
       "q_7: ────────────┼────────────\n",
       "                 │            \n",
       "q_8: ────────────┼────────────\n",
       "               ┌─┴─┐          \n",
       "q_9: ──────────┤ X ├──────────\n",
       "               └───┘          "
      ]
     },
     "execution_count": 4,
     "metadata": {},
     "output_type": "execute_result"
    }
   ],
   "source": [
    "# diffuser circuit for factorising 35\n",
    "c = QuantumCircuit(10)\n",
    "for i in range(6):\n",
    "    c.h(i)\n",
    "    c.x(i)\n",
    "c.mcx([0,1,2,3,4,5],9)\n",
    "for i in range(6):\n",
    "    c.x(i)\n",
    "    c.h(i)\n",
    "c.draw()\n",
    "\n",
    "\n",
    "    \n",
    "    \n",
    "    "
   ]
  },
  {
   "cell_type": "code",
   "execution_count": 5,
   "id": "d6f584dc",
   "metadata": {},
   "outputs": [],
   "source": [
    "# conversion of oracle and diffuser as gates\n",
    "gate1 = cq.to_gate()\n",
    "gate1.label = \"Oracle\"\n",
    "gate2 = c.to_gate()\n",
    "gate2.label = \"Diffuser\"\n",
    "for i in range(6):\n",
    "    qc.append(gate1,list(range(0,10)))\n",
    "    qc.append(gate2,list(range(0,10)))\n",
    "\n",
    "\n"
   ]
  },
  {
   "cell_type": "code",
   "execution_count": 6,
   "id": "788e9f35",
   "metadata": {},
   "outputs": [
    {
     "name": "stderr",
     "output_type": "stream",
     "text": [
      "C:\\Users\\ga05y\\AppData\\Local\\Temp\\ipykernel_16992\\3618109945.py:4: DeprecationWarning: The 'qiskit.Aer' entry point is deprecated and will be removed in Qiskit 1.0. You should use 'qiskit_aer.Aer' directly instead.\n",
      "  simulator = Aer.get_backend('qasm_simulator')\n",
      "C:\\Users\\ga05y\\AppData\\Local\\Temp\\ipykernel_16992\\3618109945.py:5: DeprecationWarning: The function ``qiskit.execute_function.execute()`` is deprecated as of qiskit 0.46.0. It will be removed in the Qiskit 1.0 release. This function combines ``transpile`` and ``backend.run``, which is covered by ``Sampler`` :mod:`~qiskit.primitives`. Alternatively, you can also run :func:`.transpile` followed by ``backend.run()``.\n",
      "  counts = execute(qc,backend=simulator,shots=1000).result().get_counts()\n"
     ]
    },
    {
     "data": {
      "image/png": "[encoded data removed]",
      "text/plain": [
       "<Figure size 700x500 with 1 Axes>"
      ]
     },
     "execution_count": 6,
     "metadata": {},
     "output_type": "execute_result"
    }
   ],
   "source": [
    "# measure the qubits and plot it\n",
    "for i in range(6):\n",
    "    qc.measure(i,i)\n",
    "simulator = Aer.get_backend('qasm_simulator')\n",
    "counts = execute(qc,backend=simulator,shots=1000).result().get_counts()\n",
    "plot_histogram(counts)"
   ]
  },
  {
   "cell_type": "code",
   "execution_count": 7,
   "id": "0e8a8ea7",
   "metadata": {},
   "outputs": [
    {
     "data": {
      "text/html": [
       "<pre style=\"word-wrap: normal;white-space: pre;background: #fff0;line-height: 1.1;font-family: &quot;Courier New&quot;,Courier,monospace\">      ┌───┐     \n",
       " q_0: ┤ H ├─────\n",
       "      ├───┤     \n",
       " q_1: ┤ H ├─────\n",
       "      ├───┤     \n",
       " q_2: ┤ H ├─────\n",
       "      ├───┤     \n",
       " q_3: ┤ H ├─────\n",
       "      ├───┤     \n",
       " q_4: ┤ H ├─────\n",
       "      └───┘     \n",
       " q_5: ──────────\n",
       "      ┌───┐     \n",
       " q_6: ┤ X ├─────\n",
       "      └───┘     \n",
       " q_7: ──────────\n",
       "                \n",
       " q_8: ──────────\n",
       "      ┌───┐     \n",
       " q_9: ┤ X ├─────\n",
       "      ├───┤┌───┐\n",
       "q_10: ┤ X ├┤ H ├\n",
       "      └───┘└───┘\n",
       " c: 5/══════════\n",
       "                </pre>"
      ],
      "text/plain": [
       "      ┌───┐     \n",
       " q_0: ┤ H ├─────\n",
       "      ├───┤     \n",
       " q_1: ┤ H ├─────\n",
       "      ├───┤     \n",
       " q_2: ┤ H ├─────\n",
       "      ├───┤     \n",
       " q_3: ┤ H ├─────\n",
       "      ├───┤     \n",
       " q_4: ┤ H ├─────\n",
       "      └───┘     \n",
       " q_5: ──────────\n",
       "      ┌───┐     \n",
       " q_6: ┤ X ├─────\n",
       "      └───┘     \n",
       " q_7: ──────────\n",
       "                \n",
       " q_8: ──────────\n",
       "      ┌───┐     \n",
       " q_9: ┤ X ├─────\n",
       "      ├───┤┌───┐\n",
       "q_10: ┤ X ├┤ H ├\n",
       "      └───┘└───┘\n",
       " c: 5/══════════\n",
       "                "
      ]
     },
     "execution_count": 7,
     "metadata": {},
     "output_type": "execute_result"
    }
   ],
   "source": [
    "# for factorising 115\n",
    "p = QuantumCircuit(11,5)\n",
    "for i in range(5):\n",
    "    p.h(i)\n",
    "p.x(6)\n",
    "p.x(9)\n",
    "p.x(10)\n",
    "p.h(10)\n",
    "p.draw()\n",
    "\n"
   ]
  },
  {
   "cell_type": "code",
   "execution_count": 8,
   "id": "038a0924",
   "metadata": {},
   "outputs": [
    {
     "data": {
      "text/html": [
       "<pre style=\"word-wrap: normal;white-space: pre;background: #fff0;line-height: 1.1;font-family: &quot;Courier New&quot;,Courier,monospace\">      ┌───┐     ┌───┐\n",
       " q_0: ┤ X ├──■──┤ X ├\n",
       "      └───┘  │  └───┘\n",
       " q_1: ───────■───────\n",
       "             │       \n",
       " q_2: ───────■───────\n",
       "      ┌───┐  │  ┌───┐\n",
       " q_3: ┤ X ├──■──┤ X ├\n",
       "      ├───┤  │  ├───┤\n",
       " q_4: ┤ X ├──■──┤ X ├\n",
       "      ├───┤  │  ├───┤\n",
       " q_5: ┤ X ├──■──┤ X ├\n",
       "      └───┘  │  └───┘\n",
       " q_6: ───────■───────\n",
       "      ┌───┐  │  ┌───┐\n",
       " q_7: ┤ X ├──■──┤ X ├\n",
       "      ├───┤  │  ├───┤\n",
       " q_8: ┤ X ├──■──┤ X ├\n",
       "      └───┘  │  └───┘\n",
       " q_9: ───────■───────\n",
       "           ┌─┴─┐     \n",
       "q_10: ─────┤ X ├─────\n",
       "           └───┘     </pre>"
      ],
      "text/plain": [
       "      ┌───┐     ┌───┐\n",
       " q_0: ┤ X ├──■──┤ X ├\n",
       "      └───┘  │  └───┘\n",
       " q_1: ───────■───────\n",
       "             │       \n",
       " q_2: ───────■───────\n",
       "      ┌───┐  │  ┌───┐\n",
       " q_3: ┤ X ├──■──┤ X ├\n",
       "      ├───┤  │  ├───┤\n",
       " q_4: ┤ X ├──■──┤ X ├\n",
       "      ├───┤  │  ├───┤\n",
       " q_5: ┤ X ├──■──┤ X ├\n",
       "      └───┘  │  └───┘\n",
       " q_6: ───────■───────\n",
       "      ┌───┐  │  ┌───┐\n",
       " q_7: ┤ X ├──■──┤ X ├\n",
       "      ├───┤  │  ├───┤\n",
       " q_8: ┤ X ├──■──┤ X ├\n",
       "      └───┘  │  └───┘\n",
       " q_9: ───────■───────\n",
       "           ┌─┴─┐     \n",
       "q_10: ─────┤ X ├─────\n",
       "           └───┘     "
      ]
     },
     "execution_count": 8,
     "metadata": {},
     "output_type": "execute_result"
    }
   ],
   "source": [
    "# oracle for factorising 115\n",
    "y = QuantumCircuit(11)\n",
    "for i in range(5):\n",
    "    if i ==1 or i==2:\n",
    "        continue\n",
    "    else:\n",
    "        y.x(i)\n",
    "for i in range(5,10):\n",
    "    if i == 6 or i ==9:\n",
    "        continue\n",
    "    else:\n",
    "        y.x(i)\n",
    "y.mcx([0,1,2,3,4,5,6,7,8,9],10)\n",
    "for i in range(5):\n",
    "    if i ==1 or i==2:\n",
    "        continue\n",
    "    else:\n",
    "        y.x(i)\n",
    "for i in range(5,10):\n",
    "    if i == 6 or i == 9:\n",
    "        continue\n",
    "    else:\n",
    "        y.x(i)\n",
    "y.draw()\n",
    "\n",
    "    \n"
   ]
  },
  {
   "cell_type": "code",
   "execution_count": 9,
   "id": "28b5e64d",
   "metadata": {},
   "outputs": [
    {
     "data": {
      "text/html": [
       "<pre style=\"word-wrap: normal;white-space: pre;background: #fff0;line-height: 1.1;font-family: &quot;Courier New&quot;,Courier,monospace\">      ┌───┐┌───┐     ┌───┐┌───┐\n",
       " q_0: ┤ H ├┤ X ├──■──┤ X ├┤ H ├\n",
       "      ├───┤├───┤  │  ├───┤├───┤\n",
       " q_1: ┤ H ├┤ X ├──■──┤ X ├┤ H ├\n",
       "      ├───┤├───┤  │  ├───┤├───┤\n",
       " q_2: ┤ H ├┤ X ├──■──┤ X ├┤ H ├\n",
       "      ├───┤├───┤  │  ├───┤├───┤\n",
       " q_3: ┤ H ├┤ X ├──■──┤ X ├┤ H ├\n",
       "      ├───┤├───┤  │  ├───┤├───┤\n",
       " q_4: ┤ H ├┤ X ├──■──┤ X ├┤ H ├\n",
       "      └───┘└───┘  │  └───┘└───┘\n",
       " q_5: ────────────┼────────────\n",
       "                  │            \n",
       " q_6: ────────────┼────────────\n",
       "                  │            \n",
       " q_7: ────────────┼────────────\n",
       "                  │            \n",
       " q_8: ────────────┼────────────\n",
       "                  │            \n",
       " q_9: ────────────┼────────────\n",
       "                ┌─┴─┐          \n",
       "q_10: ──────────┤ X ├──────────\n",
       "                └───┘          </pre>"
      ],
      "text/plain": [
       "      ┌───┐┌───┐     ┌───┐┌───┐\n",
       " q_0: ┤ H ├┤ X ├──■──┤ X ├┤ H ├\n",
       "      ├───┤├───┤  │  ├───┤├───┤\n",
       " q_1: ┤ H ├┤ X ├──■──┤ X ├┤ H ├\n",
       "      ├───┤├───┤  │  ├───┤├───┤\n",
       " q_2: ┤ H ├┤ X ├──■──┤ X ├┤ H ├\n",
       "      ├───┤├───┤  │  ├───┤├───┤\n",
       " q_3: ┤ H ├┤ X ├──■──┤ X ├┤ H ├\n",
       "      ├───┤├───┤  │  ├───┤├───┤\n",
       " q_4: ┤ H ├┤ X ├──■──┤ X ├┤ H ├\n",
       "      └───┘└───┘  │  └───┘└───┘\n",
       " q_5: ────────────┼────────────\n",
       "                  │            \n",
       " q_6: ────────────┼────────────\n",
       "                  │            \n",
       " q_7: ────────────┼────────────\n",
       "                  │            \n",
       " q_8: ────────────┼────────────\n",
       "                  │            \n",
       " q_9: ────────────┼────────────\n",
       "                ┌─┴─┐          \n",
       "q_10: ──────────┤ X ├──────────\n",
       "                └───┘          "
      ]
     },
     "execution_count": 9,
     "metadata": {},
     "output_type": "execute_result"
    }
   ],
   "source": [
    "# diffuser for factorising 115\n",
    "z = QuantumCircuit(11)\n",
    "for i in range(5):\n",
    "    z.h(i)\n",
    "    z.x(i)\n",
    "z.mcx([0,1,2,3,4],10)\n",
    "for i in range(5):\n",
    "    z.x(i)\n",
    "    z.h(i)\n",
    "z.draw()"
   ]
  },
  {
   "cell_type": "code",
   "execution_count": 10,
   "id": "d3ce1179",
   "metadata": {},
   "outputs": [],
   "source": [
    "# conversion of oracle and diffuser as gates\n",
    "gate3 = y.to_gate()\n",
    "gate3.label = \"Oracle\"\n",
    "gate4 = z.to_gate()\n",
    "gate4.label = \"Diffuser\"\n",
    "for i in range(4):\n",
    "    p.append(gate3,list(range(0,11)))\n",
    "    p.append(gate4,list(range(0,11)))\n"
   ]
  },
  {
   "cell_type": "code",
   "execution_count": 11,
   "id": "77e88fbd",
   "metadata": {},
   "outputs": [
    {
     "name": "stderr",
     "output_type": "stream",
     "text": [
      "C:\\Users\\ga05y\\AppData\\Local\\Temp\\ipykernel_16992\\1832258734.py:5: DeprecationWarning: The function ``qiskit.execute_function.execute()`` is deprecated as of qiskit 0.46.0. It will be removed in the Qiskit 1.0 release. This function combines ``transpile`` and ``backend.run``, which is covered by ``Sampler`` :mod:`~qiskit.primitives`. Alternatively, you can also run :func:`.transpile` followed by ``backend.run()``.\n",
      "  job = execute(p, backend=simulator, shots=1000)\n"
     ]
    },
    {
     "data": {
      "image/png": "[encoded data removed]",
      "text/plain": [
       "<Figure size 700x500 with 1 Axes>"
      ]
     },
     "execution_count": 11,
     "metadata": {},
     "output_type": "execute_result"
    }
   ],
   "source": [
    "# measure the qubits and plot it\n",
    "for i in range(5):\n",
    "    p.measure(i,i)\n",
    "simulator = Aer.get_backend('qasm_simulator')\n",
    "job = execute(p, backend=simulator, shots=1000)\n",
    "result = job.result()\n",
    "s = result.get_counts(p)\n",
    "plot_histogram(s)\n",
    "\n"
   ]
  },
  {
   "cell_type": "code",
   "execution_count": 12,
   "id": "6ce60cf4",
   "metadata": {},
   "outputs": [
    {
     "data": {
      "text/html": [
       "<pre style=\"word-wrap: normal;white-space: pre;background: #fff0;line-height: 1.1;font-family: &quot;Courier New&quot;,Courier,monospace\">      ┌───┐     \n",
       " q_0: ┤ H ├─────\n",
       "      ├───┤     \n",
       " q_1: ┤ H ├─────\n",
       "      ├───┤     \n",
       " q_2: ┤ H ├─────\n",
       "      ├───┤     \n",
       " q_3: ┤ H ├─────\n",
       "      ├───┤     \n",
       " q_4: ┤ H ├─────\n",
       "      └───┘     \n",
       " q_5: ──────────\n",
       "                \n",
       " q_6: ──────────\n",
       "      ┌───┐     \n",
       " q_7: ┤ X ├─────\n",
       "      └───┘     \n",
       " q_8: ──────────\n",
       "      ┌───┐     \n",
       " q_9: ┤ X ├─────\n",
       "      └───┘     \n",
       "q_10: ──────────\n",
       "                \n",
       "q_11: ──────────\n",
       "      ┌───┐     \n",
       "q_12: ┤ X ├─────\n",
       "      ├───┤┌───┐\n",
       "q_13: ┤ X ├┤ H ├\n",
       "      └───┘└───┘\n",
       " c: 5/══════════\n",
       "                </pre>"
      ],
      "text/plain": [
       "      ┌───┐     \n",
       " q_0: ┤ H ├─────\n",
       "      ├───┤     \n",
       " q_1: ┤ H ├─────\n",
       "      ├───┤     \n",
       " q_2: ┤ H ├─────\n",
       "      ├───┤     \n",
       " q_3: ┤ H ├─────\n",
       "      ├───┤     \n",
       " q_4: ┤ H ├─────\n",
       "      └───┘     \n",
       " q_5: ──────────\n",
       "                \n",
       " q_6: ──────────\n",
       "      ┌───┐     \n",
       " q_7: ┤ X ├─────\n",
       "      └───┘     \n",
       " q_8: ──────────\n",
       "      ┌───┐     \n",
       " q_9: ┤ X ├─────\n",
       "      └───┘     \n",
       "q_10: ──────────\n",
       "                \n",
       "q_11: ──────────\n",
       "      ┌───┐     \n",
       "q_12: ┤ X ├─────\n",
       "      ├───┤┌───┐\n",
       "q_13: ┤ X ├┤ H ├\n",
       "      └───┘└───┘\n",
       " c: 5/══════════\n",
       "                "
      ]
     },
     "execution_count": 12,
     "metadata": {},
     "output_type": "execute_result"
    }
   ],
   "source": [
    "# for factorising 893\n",
    "l = QuantumCircuit(14,5)\n",
    "for i in range(5):\n",
    "    l.h(i)\n",
    "l.x(7)\n",
    "l.x(9)\n",
    "l.x(12)\n",
    "l.x(13)\n",
    "l.h(13)\n",
    "l.draw()\n",
    "\n"
   ]
  },
  {
   "cell_type": "code",
   "execution_count": 13,
   "id": "dc0fd055",
   "metadata": {},
   "outputs": [
    {
     "data": {
      "text/html": [
       "<pre style=\"word-wrap: normal;white-space: pre;background: #fff0;line-height: 1.1;font-family: &quot;Courier New&quot;,Courier,monospace\">                     \n",
       " q_0: ───────■───────\n",
       "             │       \n",
       " q_1: ───────■───────\n",
       "             │       \n",
       " q_2: ───────■───────\n",
       "             │       \n",
       " q_3: ───────■───────\n",
       "      ┌───┐  │  ┌───┐\n",
       " q_4: ┤ X ├──■──┤ X ├\n",
       "      ├───┤  │  ├───┤\n",
       " q_5: ┤ X ├──■──┤ X ├\n",
       "      ├───┤  │  ├───┤\n",
       " q_6: ┤ X ├──■──┤ X ├\n",
       "      └───┘  │  └───┘\n",
       " q_7: ───────■───────\n",
       "      ┌───┐  │  ┌───┐\n",
       " q_8: ┤ X ├──■──┤ X ├\n",
       "      └───┘  │  └───┘\n",
       " q_9: ───────■───────\n",
       "      ┌───┐  │  ┌───┐\n",
       "q_10: ┤ X ├──■──┤ X ├\n",
       "      ├───┤  │  ├───┤\n",
       "q_11: ┤ X ├──■──┤ X ├\n",
       "      └───┘  │  └───┘\n",
       "q_12: ───────■───────\n",
       "           ┌─┴─┐     \n",
       "q_13: ─────┤ X ├─────\n",
       "           └───┘     </pre>"
      ],
      "text/plain": [
       "                     \n",
       " q_0: ───────■───────\n",
       "             │       \n",
       " q_1: ───────■───────\n",
       "             │       \n",
       " q_2: ───────■───────\n",
       "             │       \n",
       " q_3: ───────■───────\n",
       "      ┌───┐  │  ┌───┐\n",
       " q_4: ┤ X ├──■──┤ X ├\n",
       "      ├───┤  │  ├───┤\n",
       " q_5: ┤ X ├──■──┤ X ├\n",
       "      ├───┤  │  ├───┤\n",
       " q_6: ┤ X ├──■──┤ X ├\n",
       "      └───┘  │  └───┘\n",
       " q_7: ───────■───────\n",
       "      ┌───┐  │  ┌───┐\n",
       " q_8: ┤ X ├──■──┤ X ├\n",
       "      └───┘  │  └───┘\n",
       " q_9: ───────■───────\n",
       "      ┌───┐  │  ┌───┐\n",
       "q_10: ┤ X ├──■──┤ X ├\n",
       "      ├───┤  │  ├───┤\n",
       "q_11: ┤ X ├──■──┤ X ├\n",
       "      └───┘  │  └───┘\n",
       "q_12: ───────■───────\n",
       "           ┌─┴─┐     \n",
       "q_13: ─────┤ X ├─────\n",
       "           └───┘     "
      ]
     },
     "execution_count": 13,
     "metadata": {},
     "output_type": "execute_result"
    }
   ],
   "source": [
    "# oracle for factorising 893\n",
    "m = QuantumCircuit(14)\n",
    "m.x(4)\n",
    "for i in range(5,13):\n",
    "    if i==7 or i==9 or i==12:\n",
    "        continue\n",
    "    else:\n",
    "        m.x(i)\n",
    "m.mcx([0,1,2,3,4,5,6,7,8,9,10,11,12],13)\n",
    "m.x(4)\n",
    "for i in range(5,13):\n",
    "    if i==7 or i==9 or i==12:\n",
    "        continue\n",
    "    else:\n",
    "        m.x(i)\n",
    "m.draw()\n",
    "\n",
    "\n",
    "\n",
    "\n"
   ]
  },
  {
   "cell_type": "code",
   "execution_count": 14,
   "id": "8a4829c8",
   "metadata": {},
   "outputs": [
    {
     "data": {
      "text/html": [
       "<pre style=\"word-wrap: normal;white-space: pre;background: #fff0;line-height: 1.1;font-family: &quot;Courier New&quot;,Courier,monospace\">      ┌───┐┌───┐     ┌───┐┌───┐\n",
       " q_0: ┤ H ├┤ X ├──■──┤ X ├┤ H ├\n",
       "      ├───┤├───┤  │  ├───┤├───┤\n",
       " q_1: ┤ H ├┤ X ├──■──┤ X ├┤ H ├\n",
       "      ├───┤├───┤  │  ├───┤├───┤\n",
       " q_2: ┤ H ├┤ X ├──■──┤ X ├┤ H ├\n",
       "      ├───┤├───┤  │  ├───┤├───┤\n",
       " q_3: ┤ H ├┤ X ├──■──┤ X ├┤ H ├\n",
       "      ├───┤├───┤  │  ├───┤├───┤\n",
       " q_4: ┤ H ├┤ X ├──■──┤ X ├┤ H ├\n",
       "      └───┘└───┘  │  └───┘└───┘\n",
       " q_5: ────────────┼────────────\n",
       "                  │            \n",
       " q_6: ────────────┼────────────\n",
       "                  │            \n",
       " q_7: ────────────┼────────────\n",
       "                  │            \n",
       " q_8: ────────────┼────────────\n",
       "                  │            \n",
       " q_9: ────────────┼────────────\n",
       "                  │            \n",
       "q_10: ────────────┼────────────\n",
       "                  │            \n",
       "q_11: ────────────┼────────────\n",
       "                  │            \n",
       "q_12: ────────────┼────────────\n",
       "                ┌─┴─┐          \n",
       "q_13: ──────────┤ X ├──────────\n",
       "                └───┘          </pre>"
      ],
      "text/plain": [
       "      ┌───┐┌───┐     ┌───┐┌───┐\n",
       " q_0: ┤ H ├┤ X ├──■──┤ X ├┤ H ├\n",
       "      ├───┤├───┤  │  ├───┤├───┤\n",
       " q_1: ┤ H ├┤ X ├──■──┤ X ├┤ H ├\n",
       "      ├───┤├───┤  │  ├───┤├───┤\n",
       " q_2: ┤ H ├┤ X ├──■──┤ X ├┤ H ├\n",
       "      ├───┤├───┤  │  ├───┤├───┤\n",
       " q_3: ┤ H ├┤ X ├──■──┤ X ├┤ H ├\n",
       "      ├───┤├───┤  │  ├───┤├───┤\n",
       " q_4: ┤ H ├┤ X ├──■──┤ X ├┤ H ├\n",
       "      └───┘└───┘  │  └───┘└───┘\n",
       " q_5: ────────────┼────────────\n",
       "                  │            \n",
       " q_6: ────────────┼────────────\n",
       "                  │            \n",
       " q_7: ────────────┼────────────\n",
       "                  │            \n",
       " q_8: ────────────┼────────────\n",
       "                  │            \n",
       " q_9: ────────────┼────────────\n",
       "                  │            \n",
       "q_10: ────────────┼────────────\n",
       "                  │            \n",
       "q_11: ────────────┼────────────\n",
       "                  │            \n",
       "q_12: ────────────┼────────────\n",
       "                ┌─┴─┐          \n",
       "q_13: ──────────┤ X ├──────────\n",
       "                └───┘          "
      ]
     },
     "execution_count": 14,
     "metadata": {},
     "output_type": "execute_result"
    }
   ],
   "source": [
    "# diffuser for factorising 893\n",
    "n = QuantumCircuit(14)\n",
    "for i in range(5):\n",
    "    n.h(i)\n",
    "    n.x(i)\n",
    "n.mcx([0,1,2,3,4],13)\n",
    "for i in range(5):\n",
    "    n.x(i)\n",
    "    n.h(i)\n",
    "n.draw()\n"
   ]
  },
  {
   "cell_type": "code",
   "execution_count": 15,
   "id": "c23744ec",
   "metadata": {},
   "outputs": [],
   "source": [
    "# conversion of oracle and diffuse as gates\n",
    "gate5 = m.to_gate()\n",
    "gate5.label = \"Oracle\"\n",
    "gate6 = n.to_gate()\n",
    "gate6.label = \"Diffuser\"\n",
    "for i in range(4):\n",
    "    l.append(gate5,list(range(0,14)))\n",
    "    l.append(gate6,list(range(0,14)))\n"
   ]
  },
  {
   "cell_type": "code",
   "execution_count": 16,
   "id": "41e2e705",
   "metadata": {},
   "outputs": [
    {
     "name": "stderr",
     "output_type": "stream",
     "text": [
      "C:\\Users\\ga05y\\AppData\\Local\\Temp\\ipykernel_16992\\2042447290.py:5: DeprecationWarning: The function ``qiskit.execute_function.execute()`` is deprecated as of qiskit 0.46.0. It will be removed in the Qiskit 1.0 release. This function combines ``transpile`` and ``backend.run``, which is covered by ``Sampler`` :mod:`~qiskit.primitives`. Alternatively, you can also run :func:`.transpile` followed by ``backend.run()``.\n",
      "  jobbb = execute(l, backend=simulator, shots=1000)\n"
     ]
    },
    {
     "data": {
      "image/png": "[encoded data removed]",
      "text/plain": [
       "<Figure size 700x500 with 1 Axes>"
      ]
     },
     "execution_count": 16,
     "metadata": {},
     "output_type": "execute_result"
    }
   ],
   "source": [
    "# measure the qubits and plot it\n",
    "for i in range(5):\n",
    "    l.measure(i,i)\n",
    "simulator = Aer.get_backend('qasm_simulator')\n",
    "jobbb = execute(l, backend=simulator, shots=1000)\n",
    "res = jobbb.result()\n",
    "k = res.get_counts(l)\n",
    "plot_histogram(k) \n"
   ]
  },
  {
   "cell_type": "code",
   "execution_count": null,
   "id": "77050e07",
   "metadata": {},
   "outputs": [],
   "source": []
  }
 ],
 "metadata": {
  "kernelspec": {
   "display_name": "Python 3 (ipykernel)",
   "language": "python",
   "name": "python3"
  },
  "language_info": {
   "codemirror_mode": {
    "name": "ipython",
    "version": 3
   },
   "file_extension": ".py",
   "mimetype": "text/x-python",
   "name": "python",
   "nbconvert_exporter": "python",
   "pygments_lexer": "ipython3",
   "version": "3.11.7"
  }
 },
 "nbformat": 4,
 "nbformat_minor": 5
}
